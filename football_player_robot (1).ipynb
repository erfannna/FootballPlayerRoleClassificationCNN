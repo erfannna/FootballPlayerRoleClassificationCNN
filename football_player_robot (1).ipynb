{
  "nbformat": 4,
  "nbformat_minor": 0,
  "metadata": {
    "colab": {
      "provenance": [],
      "gpuType": "T4",
      "toc_visible": true
    },
    "kernelspec": {
      "name": "python3",
      "display_name": "Python 3"
    },
    "language_info": {
      "name": "python"
    },
    "accelerator": "GPU"
  },
  "cells": [
    {
      "cell_type": "markdown",
      "source": [
        "# Introduction"
      ],
      "metadata": {
        "id": "PINRJ4a4yeby"
      }
    },
    {
      "cell_type": "markdown",
      "source": [
        "**Football Player role classification with CNN`s**<br>\n",
        "using movement heatmap"
      ],
      "metadata": {
        "id": "Kv1otlscySm-"
      }
    },
    {
      "cell_type": "markdown",
      "source": [
        "# Loading dataset"
      ],
      "metadata": {
        "id": "9yVirn5XyweR"
      }
    },
    {
      "cell_type": "code",
      "source": [
        "!pip install gdown"
      ],
      "metadata": {
        "id": "lsKRI9z9iE3E",
        "colab": {
          "base_uri": "https://localhost:8080/"
        },
        "outputId": "e2626be1-e9cb-493c-a7b9-3a42145c15d4"
      },
      "execution_count": null,
      "outputs": [
        {
          "output_type": "stream",
          "name": "stdout",
          "text": [
            "Requirement already satisfied: gdown in /usr/local/lib/python3.11/dist-packages (5.2.0)\n",
            "Requirement already satisfied: beautifulsoup4 in /usr/local/lib/python3.11/dist-packages (from gdown) (4.13.3)\n",
            "Requirement already satisfied: filelock in /usr/local/lib/python3.11/dist-packages (from gdown) (3.17.0)\n",
            "Requirement already satisfied: requests[socks] in /usr/local/lib/python3.11/dist-packages (from gdown) (2.32.3)\n",
            "Requirement already satisfied: tqdm in /usr/local/lib/python3.11/dist-packages (from gdown) (4.67.1)\n",
            "Requirement already satisfied: soupsieve>1.2 in /usr/local/lib/python3.11/dist-packages (from beautifulsoup4->gdown) (2.6)\n",
            "Requirement already satisfied: typing-extensions>=4.0.0 in /usr/local/lib/python3.11/dist-packages (from beautifulsoup4->gdown) (4.12.2)\n",
            "Requirement already satisfied: charset-normalizer<4,>=2 in /usr/local/lib/python3.11/dist-packages (from requests[socks]->gdown) (3.4.1)\n",
            "Requirement already satisfied: idna<4,>=2.5 in /usr/local/lib/python3.11/dist-packages (from requests[socks]->gdown) (3.10)\n",
            "Requirement already satisfied: urllib3<3,>=1.21.1 in /usr/local/lib/python3.11/dist-packages (from requests[socks]->gdown) (2.3.0)\n",
            "Requirement already satisfied: certifi>=2017.4.17 in /usr/local/lib/python3.11/dist-packages (from requests[socks]->gdown) (2025.1.31)\n",
            "Requirement already satisfied: PySocks!=1.5.7,>=1.5.6 in /usr/local/lib/python3.11/dist-packages (from requests[socks]->gdown) (1.7.1)\n"
          ]
        }
      ]
    },
    {
      "cell_type": "code",
      "execution_count": null,
      "metadata": {
        "id": "38cd8860-eb33-4ade-869f-d5203af80406"
      },
      "outputs": [],
      "source": [
        "import gdown\n",
        "import zipfile\n",
        "\n",
        "file_id = '1D_Uesj--6NaeZ02M-FBlC1RwtiV-fe4k'\n",
        "destination = '/content/HeatMap_Data.zip'\n",
        "\n",
        "gdown.download(f'https://drive.google.com/uc?id={file_id}',\n",
        "               destination,\n",
        "               quiet=True)\n",
        "\n",
        "with zipfile.ZipFile(destination, 'r') as zip_ref:\n",
        "     zip_ref.extractall('HeatMap_Data')"
      ]
    },
    {
      "cell_type": "code",
      "source": [
        "import torch\n",
        "\n",
        "device = torch.device(\"cuda\" if torch.cuda.is_available() else \"cpu\")"
      ],
      "metadata": {
        "id": "DDKm418uvbo6"
      },
      "execution_count": null,
      "outputs": []
    },
    {
      "cell_type": "markdown",
      "source": [
        "## Loading and Preprocessing"
      ],
      "metadata": {
        "id": "tx1p8dejy7Vf"
      }
    },
    {
      "cell_type": "markdown",
      "source": [
        "> Since the images are rectangular due to the shape of a football field, I used padding with a background color to ensure that no details are lost when resizing the images."
      ],
      "metadata": {
        "id": "SnlM_eLSYXSn"
      }
    },
    {
      "cell_type": "code",
      "source": [
        "import os\n",
        "import numpy as np\n",
        "import torchvision.transforms as transforms\n",
        "from torch.utils.data import DataLoader, Dataset, random_split\n",
        "from PIL import Image\n",
        "from torchvision.transforms import functional as F\n",
        "\n",
        "\n",
        "class ResizeWithPadding(object):\n",
        "    def __init__(self, size):\n",
        "        self.size = size\n",
        "\n",
        "    def __call__(self, image):\n",
        "        width, height = image.size\n",
        "        target_width, target_height = self.size\n",
        "\n",
        "        scale = min(target_width / width, target_height / height)\n",
        "\n",
        "        new_width = int(width * scale)\n",
        "        new_height = int(height * scale)\n",
        "        image = F.resize(image, (new_height, new_width))\n",
        "\n",
        "        padding_left = (target_width - new_width) // 2\n",
        "        padding_top = (target_height - new_height) // 2\n",
        "        padding_right = target_width - new_width - padding_left\n",
        "        padding_bottom = target_height - new_height - padding_top\n",
        "\n",
        "        top_left_pixel = image.getpixel((0, 0))\n",
        "\n",
        "        image = F.pad(image, (padding_left, padding_top, padding_right, padding_bottom), fill=top_left_pixel)\n",
        "\n",
        "        return image\n",
        "\n",
        "\n",
        "class HeatmapDataset(Dataset):\n",
        "    def __init__(self, data_dir, transform=None, test=False):\n",
        "        self.data_dir = data_dir\n",
        "        self.transform = transform\n",
        "        self.test = test\n",
        "        self.images = sorted(os.listdir(data_dir)) if test else []\n",
        "        self.labels = []\n",
        "        self.class_names = [\"Defender\", \"Forward\", \"Goalkeeper\",\"Midfielder\"]\n",
        "\n",
        "        if not test:\n",
        "            class_names = sorted(os.listdir(data_dir))\n",
        "            for class_index, class_name in enumerate(class_names):\n",
        "                class_dir = os.path.join(data_dir, class_name)\n",
        "                for image_name in os.listdir(class_dir):\n",
        "                    self.images.append(os.path.join(class_dir, image_name))\n",
        "                    self.labels.append(class_index)\n",
        "\n",
        "    def __len__(self):\n",
        "        return len(self.images)\n",
        "\n",
        "    def __getitem__(self, idx):\n",
        "        image_path = os.path.join(self.data_dir, self.images[idx])\n",
        "        image = Image.open(image_path).convert('RGB')\n",
        "\n",
        "        if self.transform:\n",
        "            image = self.transform(image)\n",
        "\n",
        "        if self.test:\n",
        "            return image, self.images[idx]\n",
        "        else:\n",
        "            return image, self.labels[idx]\n",
        "\n",
        "transform = transforms.Compose([\n",
        "    ResizeWithPadding((224, 224)),\n",
        "    transforms.ToTensor(),\n",
        "    transforms.Normalize(mean=[0.5, 0.5, 0.5], std=[0.5, 0.5, 0.5])\n",
        "])\n",
        "\n",
        "test_transform = transforms.Compose([\n",
        "    ResizeWithPadding((224, 224)),\n",
        "    transforms.ToTensor(),\n",
        "    transforms.Normalize(mean=[0.5, 0.5, 0.5], std=[0.5, 0.5, 0.5])\n",
        "])"
      ],
      "metadata": {
        "id": "IpIeYatwiDri"
      },
      "execution_count": null,
      "outputs": []
    },
    {
      "cell_type": "code",
      "source": [
        "data_dir = \"/content/HeatMap_Data/train\"\n",
        "\n",
        "dataset = HeatmapDataset(data_dir, transform=transform)\n",
        "train_size = int(0.8 * len(dataset))\n",
        "val_size = len(dataset) - train_size\n",
        "train_dataset, val_dataset = random_split(dataset, [train_size, val_size])\n",
        "train_loader = DataLoader(train_dataset, batch_size=64, shuffle=True)\n",
        "val_loader = DataLoader(val_dataset, batch_size=64, shuffle=False)"
      ],
      "metadata": {
        "id": "WXs28SGwigmJ"
      },
      "execution_count": null,
      "outputs": []
    },
    {
      "cell_type": "markdown",
      "source": [
        "# Designing Model Architecture"
      ],
      "metadata": {
        "id": "dTIpLPOQzq8c"
      }
    },
    {
      "cell_type": "code",
      "source": [
        "import torch\n",
        "import torch.nn as nn\n",
        "\n",
        "class AdvancedCNN(nn.Module):\n",
        "    def __init__(self, num_classes=4):\n",
        "        super(AdvancedCNN, self).__init__()\n",
        "        self.conv1 = nn.Conv2d(3, 32, kernel_size=3, padding=1)\n",
        "        self.conv2 = nn.Conv2d(32, 64, kernel_size=3, padding=1)\n",
        "        self.conv3 = nn.Conv2d(64, 128, kernel_size=3, padding=1)\n",
        "        self.conv4 = nn.Conv2d(128, 256, kernel_size=3, padding=1)\n",
        "        self.pool = nn.MaxPool2d(2, 2)\n",
        "        self.dropout = nn.Dropout(0.4)\n",
        "        self.fc1 = nn.Linear(256 * 14 * 14, 512)\n",
        "        self.fc2 = nn.Linear(512, 128)\n",
        "        self.fc3 = nn.Linear(128, num_classes)\n",
        "        self.relu = nn.ReLU()\n",
        "\n",
        "    def forward(self, x):\n",
        "        x = self.pool(self.relu(self.conv1(x)))\n",
        "        x = self.pool(self.relu(self.conv2(x)))\n",
        "        x = self.pool(self.relu(self.conv3(x)))\n",
        "        x = self.pool(self.relu(self.conv4(x)))\n",
        "        x = torch.flatten(x, start_dim=1)\n",
        "        x = self.dropout(self.relu(self.fc1(x)))\n",
        "        x = self.dropout(self.relu(self.fc2(x)))\n",
        "        x = self.fc3(x)\n",
        "        return x"
      ],
      "metadata": {
        "id": "ywPunHgOipDl"
      },
      "execution_count": null,
      "outputs": []
    },
    {
      "cell_type": "markdown",
      "source": [
        "## Loss function and Optimizer"
      ],
      "metadata": {
        "id": "2OEZHeB3zRP_"
      }
    },
    {
      "cell_type": "code",
      "source": [
        "import torch.optim as optim\n",
        "\n",
        "model = AdvancedCNN(num_classes=4).to(device)\n",
        "criterion = nn.CrossEntropyLoss()\n",
        "optimizer = optim.Adam(model.parameters(), lr=0.0005)"
      ],
      "metadata": {
        "id": "adb0mkvGirvH"
      },
      "execution_count": null,
      "outputs": []
    },
    {
      "cell_type": "markdown",
      "source": [
        "## Evaluator"
      ],
      "metadata": {
        "id": "MSwMoC7SzYUJ"
      }
    },
    {
      "cell_type": "code",
      "source": [
        "def evaluate_model(model, val_loader, criterion):\n",
        "    model.eval()\n",
        "    correct = 0\n",
        "    total = 0\n",
        "    val_loss = 0.0\n",
        "    with torch.no_grad():\n",
        "        for images, labels in val_loader:\n",
        "            images, labels = images.to(device), labels.to(device)\n",
        "            outputs = model(images)\n",
        "            loss = criterion(outputs, labels)\n",
        "            val_loss += loss.item()\n",
        "            _, predicted = torch.max(outputs, 1)\n",
        "            total += labels.size(0)\n",
        "            correct += (predicted == labels).sum().item()\n",
        "\n",
        "    accuracy = 100 * correct / total\n",
        "    return val_loss / len(val_loader), accuracy"
      ],
      "metadata": {
        "id": "AmjcZzJajzND"
      },
      "execution_count": null,
      "outputs": []
    },
    {
      "cell_type": "markdown",
      "source": [
        "## Trainer"
      ],
      "metadata": {
        "id": "NOFD5-aYzal7"
      }
    },
    {
      "cell_type": "code",
      "source": [
        "def train_model(model,\n",
        "                train_loader,\n",
        "                val_loader,\n",
        "                criterion,\n",
        "                optimizer,\n",
        "                epochs=20,\n",
        "                patience=5):\n",
        "    model.train()\n",
        "    best_val_loss = float('inf')\n",
        "    patience_counter = 0\n",
        "    for epoch in range(epochs):\n",
        "        running_loss = 0.0\n",
        "        correct = 0\n",
        "        total = 0\n",
        "        for images, labels in train_loader:\n",
        "            images, labels = images.to(device), labels.to(device)\n",
        "            optimizer.zero_grad()\n",
        "            outputs = model(images)\n",
        "            loss = criterion(outputs, labels)\n",
        "            loss.backward()\n",
        "            optimizer.step()\n",
        "            running_loss += loss.item()\n",
        "            _, predicted = torch.max(outputs, 1)\n",
        "            total += labels.size(0)\n",
        "            correct += (predicted == labels).sum().item()\n",
        "\n",
        "        train_accuracy = 100 * correct / total\n",
        "        val_loss, val_accuracy = evaluate_model(model, val_loader, criterion)\n",
        "\n",
        "        print(f\"Epoch {epoch+1},\\\n",
        "         Train Loss: {running_loss/len(train_loader):.4f},\\\n",
        "          Train Acc: {train_accuracy:.2f}%,\\\n",
        "           Val Loss: {val_loss:.4f},\\\n",
        "            Val Acc: {val_accuracy:.2f}%\")\n",
        "\n",
        "        if val_loss < best_val_loss:\n",
        "            best_val_loss = val_loss\n",
        "            patience_counter = 0\n",
        "        else:\n",
        "            patience_counter += 1\n",
        "            if patience_counter >= patience:\n",
        "                print(\"Early stopping triggered\")\n",
        "                break"
      ],
      "metadata": {
        "id": "6F8t9Fc3i4Td"
      },
      "execution_count": null,
      "outputs": []
    },
    {
      "cell_type": "markdown",
      "source": [
        "# Trainning"
      ],
      "metadata": {
        "id": "zM8QKTHbz-yj"
      }
    },
    {
      "cell_type": "code",
      "source": [
        "train_model(model,\n",
        "            train_loader,\n",
        "            val_loader,\n",
        "            criterion,\n",
        "            optimizer,\n",
        "            20,\n",
        "            5)"
      ],
      "metadata": {
        "colab": {
          "base_uri": "https://localhost:8080/"
        },
        "id": "f_czXz29i42s",
        "outputId": "64db945f-7215-4c12-cda7-265c926d255d"
      },
      "execution_count": null,
      "outputs": [
        {
          "output_type": "stream",
          "name": "stdout",
          "text": [
            "Epoch 1,         Train Loss: 1.3678,          Train Acc: 26.50%,           Val Loss: 1.2422,            Val Acc: 47.50%\n",
            "Epoch 2,         Train Loss: 0.8848,          Train Acc: 60.25%,           Val Loss: 0.4207,            Val Acc: 87.50%\n",
            "Epoch 3,         Train Loss: 0.2602,          Train Acc: 89.27%,           Val Loss: 0.3687,            Val Acc: 92.50%\n",
            "Epoch 4,         Train Loss: 0.2223,          Train Acc: 92.74%,           Val Loss: 0.1922,            Val Acc: 93.75%\n",
            "Epoch 5,         Train Loss: 0.2103,          Train Acc: 94.01%,           Val Loss: 0.4228,            Val Acc: 88.75%\n",
            "Epoch 6,         Train Loss: 0.1538,          Train Acc: 93.69%,           Val Loss: 0.2764,            Val Acc: 88.75%\n",
            "Epoch 7,         Train Loss: 0.1582,          Train Acc: 94.64%,           Val Loss: 0.2724,            Val Acc: 92.50%\n",
            "Epoch 8,         Train Loss: 0.1420,          Train Acc: 95.90%,           Val Loss: 0.2393,            Val Acc: 91.25%\n",
            "Epoch 9,         Train Loss: 0.0886,          Train Acc: 96.85%,           Val Loss: 0.1194,            Val Acc: 97.50%\n",
            "Epoch 10,         Train Loss: 0.0854,          Train Acc: 97.48%,           Val Loss: 0.1426,            Val Acc: 96.25%\n",
            "Epoch 11,         Train Loss: 0.0583,          Train Acc: 98.11%,           Val Loss: 0.2422,            Val Acc: 91.25%\n",
            "Epoch 12,         Train Loss: 0.0562,          Train Acc: 98.11%,           Val Loss: 0.1848,            Val Acc: 95.00%\n",
            "Epoch 13,         Train Loss: 0.0562,          Train Acc: 97.79%,           Val Loss: 0.1349,            Val Acc: 96.25%\n",
            "Epoch 14,         Train Loss: 0.0435,          Train Acc: 98.42%,           Val Loss: 0.1307,            Val Acc: 95.00%\n",
            "Early stopping triggered\n"
          ]
        }
      ]
    },
    {
      "cell_type": "markdown",
      "source": [
        "# Prediction"
      ],
      "metadata": {
        "id": "4j0vBMbO0CGE"
      }
    },
    {
      "cell_type": "markdown",
      "source": [
        "> Loading test dataset"
      ],
      "metadata": {
        "id": "Zq6vo2_v0Kcc"
      }
    },
    {
      "cell_type": "code",
      "source": [
        "test_data_dir = \"/content/HeatMap_Data/test\"\n",
        "\n",
        "test_dataset = HeatmapDataset(test_data_dir, transform=test_transform, test=True)\n",
        "test_loader = DataLoader(test_dataset, batch_size=1, shuffle=False)"
      ],
      "metadata": {
        "id": "OOqoVU4Wy9JS"
      },
      "execution_count": null,
      "outputs": []
    },
    {
      "cell_type": "markdown",
      "source": [
        "> define test function"
      ],
      "metadata": {
        "id": "64DF5Gmt0QeJ"
      }
    },
    {
      "cell_type": "code",
      "source": [
        "import pandas as pd\n",
        "\n",
        "def predict_and_save_submission(model, test_loader, output_file=\"submission.csv\"):\n",
        "    predictions = []\n",
        "    class_names = test_loader.dataset.class_names\n",
        "\n",
        "    with torch.no_grad():\n",
        "        for images, image_names in test_loader:\n",
        "            images = images.to(device)\n",
        "            outputs = model(images)\n",
        "            _, predicted = torch.max(outputs, 1)\n",
        "            predicted_class = class_names[predicted.item()]\n",
        "            predictions.append((image_names[0], predicted_class))\n",
        "\n",
        "    predictions.sort(key=lambda x: int(x[0].split('.')[0]))\n",
        "\n",
        "    df = pd.DataFrame(predictions, columns=[\"Image\", \"Position\"])\n",
        "    df.drop(columns=[\"Image\"], inplace=True)\n",
        "    df.to_csv(output_file, index=False)\n",
        "    print(f\"Submission file saved as {output_file}\")"
      ],
      "metadata": {
        "id": "-sTi2soTzOn8"
      },
      "execution_count": null,
      "outputs": []
    },
    {
      "cell_type": "markdown",
      "source": [
        "> switching model to evaluate mode"
      ],
      "metadata": {
        "id": "bZCpLKRN0Vzl"
      }
    },
    {
      "cell_type": "code",
      "source": [
        "model.eval()"
      ],
      "metadata": {
        "colab": {
          "base_uri": "https://localhost:8080/"
        },
        "id": "q0iwkaHPzmEx",
        "outputId": "842626da-72a1-4167-8880-ecaca5aa6965"
      },
      "execution_count": null,
      "outputs": [
        {
          "output_type": "execute_result",
          "data": {
            "text/plain": [
              "AdvancedCNN(\n",
              "  (conv1): Conv2d(3, 32, kernel_size=(3, 3), stride=(1, 1), padding=(1, 1))\n",
              "  (conv2): Conv2d(32, 64, kernel_size=(3, 3), stride=(1, 1), padding=(1, 1))\n",
              "  (conv3): Conv2d(64, 128, kernel_size=(3, 3), stride=(1, 1), padding=(1, 1))\n",
              "  (conv4): Conv2d(128, 256, kernel_size=(3, 3), stride=(1, 1), padding=(1, 1))\n",
              "  (pool): MaxPool2d(kernel_size=2, stride=2, padding=0, dilation=1, ceil_mode=False)\n",
              "  (dropout): Dropout(p=0.4, inplace=False)\n",
              "  (fc1): Linear(in_features=50176, out_features=512, bias=True)\n",
              "  (fc2): Linear(in_features=512, out_features=128, bias=True)\n",
              "  (fc3): Linear(in_features=128, out_features=4, bias=True)\n",
              "  (relu): ReLU()\n",
              ")"
            ]
          },
          "metadata": {},
          "execution_count": 8
        }
      ]
    },
    {
      "cell_type": "markdown",
      "source": [
        "> predicting"
      ],
      "metadata": {
        "id": "jPtILa8a0eqh"
      }
    },
    {
      "cell_type": "code",
      "source": [
        "predict_and_save_submission(model, test_loader)"
      ],
      "metadata": {
        "colab": {
          "base_uri": "https://localhost:8080/"
        },
        "id": "fXimdTxsznpz",
        "outputId": "1f9ae0e5-a329-43cc-e7bb-d6f27338920f"
      },
      "execution_count": null,
      "outputs": [
        {
          "output_type": "stream",
          "name": "stdout",
          "text": [
            "Submission file saved as submission.csv\n"
          ]
        }
      ]
    },
    {
      "cell_type": "markdown",
      "source": [
        "> saving model"
      ],
      "metadata": {
        "id": "FQNjF94T0iVe"
      }
    },
    {
      "cell_type": "code",
      "source": [
        "torch.save(model.state_dict(), \"model.pth\")"
      ],
      "metadata": {
        "id": "bkbjGy7Dz8ku"
      },
      "execution_count": null,
      "outputs": []
    },
    {
      "cell_type": "markdown",
      "source": [
        "# Evaluation"
      ],
      "metadata": {
        "id": "iTDwXty2k-w-"
      }
    },
    {
      "cell_type": "markdown",
      "source": [
        "> Load weights"
      ],
      "metadata": {
        "id": "C4rN3VMEkgBr"
      }
    },
    {
      "cell_type": "code",
      "source": [
        "model.load_state_dict(torch.load(\"model.pth\"))"
      ],
      "metadata": {
        "id": "jZjLs87ZhG1Y",
        "colab": {
          "base_uri": "https://localhost:8080/"
        },
        "outputId": "2826e01f-a7c4-411d-ca9b-10780317cfeb"
      },
      "execution_count": null,
      "outputs": [
        {
          "output_type": "stream",
          "name": "stderr",
          "text": [
            "<ipython-input-9-88f269442855>:1: FutureWarning: You are using `torch.load` with `weights_only=False` (the current default value), which uses the default pickle module implicitly. It is possible to construct malicious pickle data which will execute arbitrary code during unpickling (See https://github.com/pytorch/pytorch/blob/main/SECURITY.md#untrusted-models for more details). In a future release, the default value for `weights_only` will be flipped to `True`. This limits the functions that could be executed during unpickling. Arbitrary objects will no longer be allowed to be loaded via this mode unless they are explicitly allowlisted by the user via `torch.serialization.add_safe_globals`. We recommend you start setting `weights_only=True` for any use case where you don't have full control of the loaded file. Please open an issue on GitHub for any issues related to this experimental feature.\n",
            "  model.load_state_dict(torch.load(\"model.pth\"))\n"
          ]
        },
        {
          "output_type": "execute_result",
          "data": {
            "text/plain": [
              "<All keys matched successfully>"
            ]
          },
          "metadata": {},
          "execution_count": 9
        }
      ]
    },
    {
      "cell_type": "markdown",
      "source": [
        "> test and show result"
      ],
      "metadata": {
        "id": "UQcys0R3k7Yi"
      }
    },
    {
      "cell_type": "code",
      "source": [
        "import matplotlib.pyplot as plt\n",
        "\n",
        "\n",
        "predictions = pd.read_csv('submission.csv')\n",
        "image = np.array(Image.open('HeatMap_Data/test/0.jpg').convert('RGB'))\n",
        "predicted = predictions.iloc[0, 0]\n",
        "\n",
        "image_array = np.array(image)\n",
        "plt.imshow(image_array)\n",
        "plt.title(f\"Predicted label: {predicted}\")\n",
        "plt.axis('off')\n",
        "plt.show()"
      ],
      "metadata": {
        "id": "_sZNcm4Fk6BJ",
        "colab": {
          "base_uri": "https://localhost:8080/",
          "height": 395
        },
        "outputId": "95ab00ac-d498-4979-eb9a-3e92842f22ec"
      },
      "execution_count": null,
      "outputs": [
        {
          "output_type": "display_data",
          "data": {
            "text/plain": [
              "<Figure size 640x480 with 1 Axes>"
            ],
            "image/png": "[encoded data removed]"
          },
          "metadata": {}
        }
      ]
    }
  ]
}